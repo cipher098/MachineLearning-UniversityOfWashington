{
 "cells": [
  {
   "cell_type": "code",
   "execution_count": 2,
   "metadata": {},
   "outputs": [],
   "source": [
    "# This Python 3 environment comes with many helpful analytics libraries installed\n",
    "# It is defined by the kaggle/python docker image: https://github.com/kaggle/docker-python\n",
    "# For example, here's several helpful packages to load in \n",
    "\n",
    "import string\n",
    "\n",
    "import numpy as np # linear algebra\n",
    "import pandas as pd # data processing, CSV file I/O (e.g. pd.read_csv)\n",
    "\n",
    "\n",
    "#Visualizations library\n",
    "import seaborn as sns \n",
    "import matplotlib.pyplot as plt\n",
    "\n",
    "\n",
    "#Stats library\n",
    "from scipy import stats\n",
    "from scipy.stats import norm, skew \n",
    "\n",
    "#Preprocessing Libraries\n",
    "from statsmodels.stats.outliers_influence import variance_inflation_factor\n",
    "from sklearn.preprocessing import MinMaxScaler\n",
    "from sklearn.preprocessing import LabelEncoder\n",
    "from scipy.special import boxcox1p\n",
    "from sklearn.feature_extraction.text import CountVectorizer\n",
    "\n",
    "\n",
    "# Modellling Librries\n",
    "from sklearn.linear_model import ElasticNet, Lasso,  BayesianRidge, LassoLarsIC, LassoCV, Ridge, LogisticRegression\n",
    "from sklearn.ensemble import RandomForestRegressor,  GradientBoostingRegressor\n",
    "from sklearn.kernel_ridge import KernelRidge\n",
    "from sklearn.pipeline import make_pipeline\n",
    "from sklearn.preprocessing import RobustScaler, LabelEncoder\n",
    "from sklearn.base import BaseEstimator, TransformerMixin, RegressorMixin, clone\n",
    "from sklearn.model_selection import KFold, cross_val_score, train_test_split\n",
    "from sklearn.metrics import mean_squared_error\n",
    "from sklearn import metrics\n",
    "from sklearn.model_selection import GridSearchCV \n",
    "\n",
    "import os\n",
    "# print(os.listdir(\"../House Price Predictor\"))\n",
    "\n",
    "# Any results you write to the current directory are saved as output."
   ]
  },
  {
   "cell_type": "code",
   "execution_count": 3,
   "metadata": {},
   "outputs": [],
   "source": [
    "sales = pd.read_csv('kc_house_data.csv')"
   ]
  },
  {
   "cell_type": "code",
   "execution_count": 4,
   "metadata": {},
   "outputs": [],
   "source": [
    "trainData = pd.read_csv('kc_house_train_data.csv')\n",
    "testData = pd.read_csv('kc_house_test_data.csv')"
   ]
  },
  {
   "cell_type": "code",
   "execution_count": 9,
   "metadata": {},
   "outputs": [],
   "source": [
    "def simpleLinearReg(input_feature, output):\n",
    "    # compute the sum of input_feature and output\n",
    "    sum_input = input_feature.sum()\n",
    "    sum_output = output.sum()\n",
    "    N = len(input_feature)\n",
    "    #print \"sum_input: \" + str(sum_input)\n",
    "    #print \"sum_output: \"+ str(sum_output)\n",
    "    #print N\n",
    "    \n",
    "    # compute the product of the output and the input_feature and its sum\n",
    "    product = input_feature * output\n",
    "    sum_product = product.sum()\n",
    "    #print \"product: \" + str(product)\n",
    "    #print \"sum_product: \" + str(sum_product)\n",
    "    \n",
    "    # compute the squared value of the input_feature and its sum\n",
    "    squared_input = input_feature * input_feature\n",
    "    sum_squared_input = squared_input.sum()\n",
    "    #print \"square_input: \" + str(squared_input)\n",
    "    #print\"sum_square_input: \" + str(sum_squared_input)\n",
    "    \n",
    "    # use the formula for the slope\n",
    "    numerator = (sum_product) - (1.0/N) * ((sum_input) * (sum_output))\n",
    "    denominator = (sum_squared_input) - (1.0/N) * ((sum_input) * (sum_input))\n",
    "    #print 1/N\n",
    "    #print \"numerator: \" + str(numerator)\n",
    "    #print \"denominator: \" + str(denominator)\n",
    "    \n",
    "    slope = numerator / denominator\n",
    "    \n",
    "    \n",
    "    # use the formula for the intercept\n",
    "    intercept = ((1.0/N) * (sum_output)) - (slope * (1.0/N) * (sum_input))\n",
    "    \n",
    "    return (intercept, slope)\n"
   ]
  },
  {
   "cell_type": "code",
   "execution_count": 10,
   "metadata": {},
   "outputs": [],
   "source": [
    "inputFeat = trainData['sqft_living'].values\n",
    "output = trainData['price'].values\n",
    "intercept, slope = simpleLinearReg(inputFeat, output)"
   ]
  },
  {
   "cell_type": "code",
   "execution_count": 11,
   "metadata": {},
   "outputs": [
    {
     "data": {
      "text/plain": [
       "(-47116.07907289418, 281.9588396303426)"
      ]
     },
     "execution_count": 11,
     "metadata": {},
     "output_type": "execute_result"
    }
   ],
   "source": [
    "intercept, slope"
   ]
  },
  {
   "cell_type": "code",
   "execution_count": 1,
   "metadata": {},
   "outputs": [],
   "source": [
    "def getRegPred(inputFeat, intercept, slope):\n",
    "    predictions = intercept + slope * inputFeat\n",
    "    return predictions"
   ]
  },
  {
   "cell_type": "code",
   "execution_count": 12,
   "metadata": {},
   "outputs": [],
   "source": [
    "predictions = getRegPred(inputFeat, intercept, slope)"
   ]
  },
  {
   "cell_type": "code",
   "execution_count": 31,
   "metadata": {},
   "outputs": [
    {
     "name": "stdout",
     "output_type": "stream",
     "text": [
      "700074.8459475137\n"
     ]
    }
   ],
   "source": [
    "pred2650 = getRegPred(2650, intercept, slope)\n",
    "print(pred2650)"
   ]
  },
  {
   "cell_type": "code",
   "execution_count": 26,
   "metadata": {},
   "outputs": [],
   "source": [
    "def getRSS(inputFeat, output, predictions):\n",
    "    RSS = np.sum(np.square(output-predictions))\n",
    "    return RSS"
   ]
  },
  {
   "cell_type": "code",
   "execution_count": 25,
   "metadata": {},
   "outputs": [
    {
     "data": {
      "text/plain": [
       "1201918354177283.0"
      ]
     },
     "execution_count": 25,
     "metadata": {},
     "output_type": "execute_result"
    }
   ],
   "source": [
    "np.sum(np.square(output-predictions))"
   ]
  },
  {
   "cell_type": "code",
   "execution_count": 32,
   "metadata": {},
   "outputs": [
    {
     "name": "stdout",
     "output_type": "stream",
     "text": [
      "1201918354177283.0\n"
     ]
    }
   ],
   "source": [
    "RSS = getRSS(inputFeat, output, predictions)\n",
    "print(RSS)"
   ]
  },
  {
   "cell_type": "code",
   "execution_count": 34,
   "metadata": {},
   "outputs": [],
   "source": [
    "def inverseRegPred(output, intercept, slope):\n",
    "    estInput = (output - intercept)/slope\n",
    "    return estInput"
   ]
  },
  {
   "cell_type": "code",
   "execution_count": 35,
   "metadata": {},
   "outputs": [
    {
     "data": {
      "text/plain": [
       "3004.3962451522766"
      ]
     },
     "execution_count": 35,
     "metadata": {},
     "output_type": "execute_result"
    }
   ],
   "source": [
    "inp8L = inverseRegPred(800000, intercept, slope)\n",
    "inp8L"
   ]
  },
  {
   "cell_type": "code",
   "execution_count": 36,
   "metadata": {},
   "outputs": [],
   "source": [
    "inputFeat = trainData['bedrooms'].values\n",
    "output = trainData['price'].values\n",
    "interceptBed, slopeBed = simpleLinearReg(inputFeat, output)"
   ]
  },
  {
   "cell_type": "code",
   "execution_count": 40,
   "metadata": {},
   "outputs": [
    {
     "name": "stdout",
     "output_type": "stream",
     "text": [
      "RSS test  Bed  3.528598368921088e+20 RSS test SQ  275402933617812.12\n"
     ]
    }
   ],
   "source": [
    "testInp = testData['sqft_living'].values\n",
    "testOup = testData['price'].values\n",
    "predTestSq = getRegPred(testInp, intercept, slope)\n",
    "predTestBed = getRegPred(testInp, interceptBed, slopeBed)\n",
    "RSSTestSq = getRSS(testInp, testOup, predTestSq)\n",
    "RSSTestBed = getRSS(testInp, testOup, predTestBed)\n",
    "print('RSS test  Bed ', RSSTestBed, 'RSS test SQ ', RSSTestSq)"
   ]
  }
 ],
 "metadata": {
  "kernelspec": {
   "display_name": "Python 3",
   "language": "python",
   "name": "python3"
  },
  "language_info": {
   "codemirror_mode": {
    "name": "ipython",
    "version": 3
   },
   "file_extension": ".py",
   "mimetype": "text/x-python",
   "name": "python",
   "nbconvert_exporter": "python",
   "pygments_lexer": "ipython3",
   "version": "3.6.5"
  }
 },
 "nbformat": 4,
 "nbformat_minor": 2
}
