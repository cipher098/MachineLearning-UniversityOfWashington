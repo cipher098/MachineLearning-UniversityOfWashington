{
 "cells": [
  {
   "cell_type": "code",
   "execution_count": 1,
   "metadata": {},
   "outputs": [],
   "source": [
    "# This Python 3 environment comes with many helpful analytics libraries installed\n",
    "# It is defined by the kaggle/python docker image: https://github.com/kaggle/docker-python\n",
    "# For example, here's several helpful packages to load in \n",
    "\n",
    "import string\n",
    "\n",
    "import numpy as np # linear algebra\n",
    "import pandas as pd # data processing, CSV file I/O (e.g. pd.read_csv)\n",
    "\n",
    "\n",
    "#Visualizations library\n",
    "import seaborn as sns \n",
    "import matplotlib.pyplot as plt\n",
    "\n",
    "\n",
    "#Stats library\n",
    "from scipy import stats\n",
    "from scipy.stats import norm, skew \n",
    "\n",
    "#Preprocessing Libraries\n",
    "from statsmodels.stats.outliers_influence import variance_inflation_factor\n",
    "from sklearn.preprocessing import MinMaxScaler\n",
    "from sklearn.preprocessing import LabelEncoder\n",
    "from scipy.special import boxcox1p\n",
    "from sklearn.feature_extraction.text import CountVectorizer\n",
    "\n",
    "\n",
    "# Modellling Librries\n",
    "from sklearn.linear_model import ElasticNet, Lasso,  BayesianRidge, LassoLarsIC, LassoCV, Ridge, LogisticRegression, LinearRegression\n",
    "from sklearn.ensemble import RandomForestRegressor,  GradientBoostingRegressor\n",
    "from sklearn.kernel_ridge import KernelRidge\n",
    "from sklearn.pipeline import make_pipeline\n",
    "from sklearn.preprocessing import RobustScaler, LabelEncoder\n",
    "from sklearn.base import BaseEstimator, TransformerMixin, RegressorMixin, clone\n",
    "from sklearn.model_selection import KFold, cross_val_score, train_test_split\n",
    "from sklearn.metrics import mean_squared_error\n",
    "from sklearn import metrics\n",
    "from sklearn.model_selection import GridSearchCV \n",
    "\n",
    "import os\n",
    "# print(os.listdir(\"../House Price Predictor\"))\n",
    "\n",
    "# Any results you write to the current directory are saved as output."
   ]
  },
  {
   "cell_type": "code",
   "execution_count": 65,
   "metadata": {},
   "outputs": [],
   "source": [
    "sales = pd.read_csv('kc_house_data.csv')\n",
    "# sales = sales.sort_values(by=['sqft_living','price'])\n",
    "testData = pd.read_csv('kc_house_test_data.csv')\n",
    "trainData = pd.read_csv('kc_house_train_data.csv')"
   ]
  },
  {
   "cell_type": "code",
   "execution_count": 66,
   "metadata": {},
   "outputs": [],
   "source": [
    "def convertToArray(df, feats,output):\n",
    "    df['constant'] = 1\n",
    "    feats = ['constant'] + feats\n",
    "    featMatrix = df[feats].as_matrix()\n",
    "    outputArray = df[output].as_matrix()\n",
    "    return(featMatrix, outputArray)"
   ]
  },
  {
   "cell_type": "code",
   "execution_count": 67,
   "metadata": {},
   "outputs": [],
   "source": [
    "def polyFeat(feat, degree):\n",
    "    df = pd.DataFrame()\n",
    "    if degree > 0:\n",
    "        for pwr in range(1, degree+1):\n",
    "            name = 'power_' + str(pwr)\n",
    "            df[name] = feat ** pwr\n",
    "    return df"
   ]
  },
  {
   "cell_type": "code",
   "execution_count": 68,
   "metadata": {},
   "outputs": [],
   "source": [
    "def predictOutcome(featMatrix, weights):\n",
    "    predictions = np.dot(featMatrix, weights)\n",
    "    return predictions"
   ]
  },
  {
   "cell_type": "code",
   "execution_count": 69,
   "metadata": {},
   "outputs": [],
   "source": [
    "def featDerRidge(wt, feat, errors, l2p, isConstant):\n",
    "    der = -2 * np.dot(feat,errors)\n",
    "    if not isConstant:\n",
    "#         der = der + (2 * l2p * (np.sum(wt)))\n",
    "        der = der + (2 * l2p * wt)\n",
    "    return der"
   ]
  },
  {
   "cell_type": "code",
   "execution_count": 70,
   "metadata": {},
   "outputs": [],
   "source": [
    "def getRSS(output, predictions):\n",
    "    RSS = np.sum(np.square(output-predictions))\n",
    "    return RSS"
   ]
  },
  {
   "cell_type": "code",
   "execution_count": 71,
   "metadata": {},
   "outputs": [],
   "source": [
    "def ridgeGradDesc(featMat, op, initWt, stepSz, l2p, maxIter=100):\n",
    "    wts =np.array(initWt)\n",
    "    iter = 1\n",
    "    while iter != maxIter:\n",
    "        prediction = predictOutcome(featMat, wts)\n",
    "        errors = op - prediction\n",
    "        \n",
    "        for i in range(len(wts)):\n",
    "            isConstant = (i==0)\n",
    "            der = featDerRidge(wts[i], featMat[:, i], errors, l2p, isConstant)\n",
    "            wts[i] = wts[i] - (stepSz * der)\n",
    "        iter = iter + 1\n",
    "    return wts"
   ]
  },
  {
   "cell_type": "code",
   "execution_count": 72,
   "metadata": {},
   "outputs": [
    {
     "name": "stderr",
     "output_type": "stream",
     "text": [
      "/home/saurabh/anaconda3/lib/python3.6/site-packages/ipykernel_launcher.py:4: FutureWarning: Method .as_matrix will be removed in a future version. Use .values instead.\n",
      "  after removing the cwd from sys.path.\n",
      "/home/saurabh/anaconda3/lib/python3.6/site-packages/ipykernel_launcher.py:5: FutureWarning: Method .as_matrix will be removed in a future version. Use .values instead.\n",
      "  \"\"\"\n"
     ]
    }
   ],
   "source": [
    "exFeat, exOp = convertToArray(sales, ['sqft_living'], 'price')\n",
    "myWt = np.array([1., 10.])\n",
    "testPrediction = predictOutcome(exFeat, myWt)"
   ]
  },
  {
   "cell_type": "code",
   "execution_count": 74,
   "metadata": {},
   "outputs": [
    {
     "data": {
      "text/plain": [
       "-22446749330.0"
      ]
     },
     "execution_count": 74,
     "metadata": {},
     "output_type": "execute_result"
    }
   ],
   "source": [
    "featDerRidge(myWt[0], exFeat[:,0], exOp-testPrediction,  1, True)"
   ]
  },
  {
   "cell_type": "code",
   "execution_count": 75,
   "metadata": {},
   "outputs": [
    {
     "name": "stdout",
     "output_type": "stream",
     "text": [
      "-22446749330.0\n"
     ]
    }
   ],
   "source": [
    "print (np.sum(testPrediction - exOp)*2)"
   ]
  },
  {
   "cell_type": "code",
   "execution_count": 76,
   "metadata": {},
   "outputs": [
    {
     "name": "stderr",
     "output_type": "stream",
     "text": [
      "/home/saurabh/anaconda3/lib/python3.6/site-packages/ipykernel_launcher.py:4: FutureWarning: Method .as_matrix will be removed in a future version. Use .values instead.\n",
      "  after removing the cwd from sys.path.\n",
      "/home/saurabh/anaconda3/lib/python3.6/site-packages/ipykernel_launcher.py:5: FutureWarning: Method .as_matrix will be removed in a future version. Use .values instead.\n",
      "  \"\"\"\n"
     ]
    }
   ],
   "source": [
    "simpFeat = ['sqft_living']\n",
    "myOp = 'price'\n",
    "simpTrMat, simpTrOp = convertToArray(trainData, simpFeat, myOp)\n",
    "simpTeMat, simpTeOp = convertToArray(testData, simpFeat, myOp)"
   ]
  },
  {
   "cell_type": "code",
   "execution_count": 77,
   "metadata": {},
   "outputs": [],
   "source": [
    "stepSz = 1e-12\n",
    "maxIter = 1000\n",
    "initWts = np.array([0.0, 0.0])\n",
    "l2p = 0.0\n",
    "simpWts0Pe = ridgeGradDesc(simpTrMat, simpTrOp, initWts, stepSz, l2p, maxIter)"
   ]
  },
  {
   "cell_type": "code",
   "execution_count": 78,
   "metadata": {},
   "outputs": [
    {
     "data": {
      "text/plain": [
       "array([-1.62844700e-01,  2.63024369e+02])"
      ]
     },
     "execution_count": 78,
     "metadata": {},
     "output_type": "execute_result"
    }
   ],
   "source": [
    "simpWts0Pe"
   ]
  },
  {
   "cell_type": "code",
   "execution_count": 79,
   "metadata": {},
   "outputs": [],
   "source": [
    "stepSz = 1e-12\n",
    "maxIter = 1000\n",
    "initWts = np.array([0.0, 0.0])\n",
    "l2p = 1e11\n",
    "simpWtsHiPe = ridgeGradDesc(simpTrMat, simpTrOp, initWts, stepSz, l2p, maxIter)"
   ]
  },
  {
   "cell_type": "code",
   "execution_count": 80,
   "metadata": {},
   "outputs": [
    {
     "data": {
      "text/plain": [
       "array([  9.75756033, 124.57217753])"
      ]
     },
     "execution_count": 80,
     "metadata": {},
     "output_type": "execute_result"
    }
   ],
   "source": [
    "simpWtsHiPe"
   ]
  },
  {
   "cell_type": "code",
   "execution_count": 81,
   "metadata": {},
   "outputs": [
    {
     "data": {
      "text/plain": [
       "[<matplotlib.lines.Line2D at 0x7ff23952f2e8>,\n",
       " <matplotlib.lines.Line2D at 0x7ff23952f470>,\n",
       " <matplotlib.lines.Line2D at 0x7ff23952fcc0>,\n",
       " <matplotlib.lines.Line2D at 0x7ff23952fe48>,\n",
       " <matplotlib.lines.Line2D at 0x7ff2395365c0>,\n",
       " <matplotlib.lines.Line2D at 0x7ff239536748>]"
      ]
     },
     "execution_count": 81,
     "metadata": {},
     "output_type": "execute_result"
    },
    {
     "data": {
      "image/png": "[encoded data removed]",
      "text/plain": [
       "<Figure size 432x288 with 1 Axes>"
      ]
     },
     "metadata": {},
     "output_type": "display_data"
    }
   ],
   "source": [
    "plt.plot(simpTrMat, simpTrOp, 'k.',\n",
    "        simpTrMat, predictOutcome(simpTrMat, simpWts0Pe), 'b-',\n",
    "        simpTrMat, predictOutcome(simpTrMat, simpWtsHiPe), 'r-')"
   ]
  },
  {
   "cell_type": "code",
   "execution_count": 91,
   "metadata": {},
   "outputs": [
    {
     "name": "stdout",
     "output_type": "stream",
     "text": [
      "275723632163972.25\n"
     ]
    }
   ],
   "source": [
    "testPred = predictOutcome(simpTeMat, simpWts0Pe)\n",
    "RSSTest = getRSS(simpTeOp, testPred)\n",
    "print(RSSTest)"
   ]
  },
  {
   "cell_type": "code",
   "execution_count": 83,
   "metadata": {},
   "outputs": [
    {
     "name": "stderr",
     "output_type": "stream",
     "text": [
      "/home/saurabh/anaconda3/lib/python3.6/site-packages/ipykernel_launcher.py:4: FutureWarning: Method .as_matrix will be removed in a future version. Use .values instead.\n",
      "  after removing the cwd from sys.path.\n",
      "/home/saurabh/anaconda3/lib/python3.6/site-packages/ipykernel_launcher.py:5: FutureWarning: Method .as_matrix will be removed in a future version. Use .values instead.\n",
      "  \"\"\"\n"
     ]
    }
   ],
   "source": [
    "simp1Feat = ['sqft_living', 'sqft_living15']\n",
    "myOp = 'price'\n",
    "simp1TrMat, simp1TrOp = convertToArray(trainData, simp1Feat, myOp)\n",
    "simp1TeMat, simp1TeOp = convertToArray(testData, simp1Feat, myOp)"
   ]
  },
  {
   "cell_type": "code",
   "execution_count": 84,
   "metadata": {},
   "outputs": [],
   "source": [
    "stepSz = 1e-12\n",
    "maxIter = 1000\n",
    "initWts = np.array([0.0, 0.0, 0.0])\n",
    "l2p = 0.0\n",
    "simp1Wts0Pe = ridgeGradDesc(simp1TrMat, simp1TrOp, initWts, stepSz, l2p, maxIter)"
   ]
  },
  {
   "cell_type": "code",
   "execution_count": 85,
   "metadata": {},
   "outputs": [],
   "source": [
    "stepSz = 1e-12\n",
    "maxIter = 1000\n",
    "initWts = np.array([0.0, 0.0, 0.0])\n",
    "l2p = 1e11\n",
    "simp1WtsHiPe = ridgeGradDesc(simp1TrMat, simp1TrOp, initWts, stepSz, l2p, maxIter)"
   ]
  },
  {
   "cell_type": "code",
   "execution_count": 86,
   "metadata": {},
   "outputs": [
    {
     "name": "stdout",
     "output_type": "stream",
     "text": [
      "243.05260393007475\n",
      "91.48927454407048\n"
     ]
    }
   ],
   "source": [
    "print(simp1Wts0Pe[1])\n",
    "print(simp1WtsHiPe[1])"
   ]
  },
  {
   "cell_type": "code",
   "execution_count": 90,
   "metadata": {},
   "outputs": [
    {
     "name": "stdout",
     "output_type": "stream",
     "text": [
      "500404804222367.3\n"
     ]
    }
   ],
   "source": [
    "test1Pred = predictOutcome(simp1TeMat, simp1WtsHiPe)\n",
    "RSSTest1 = getRSS(simp1TeOp, test1Pred)\n",
    "print(RSSTest1)"
   ]
  },
  {
   "cell_type": "code",
   "execution_count": 89,
   "metadata": {},
   "outputs": [
    {
     "name": "stdout",
     "output_type": "stream",
     "text": [
      "270453.52649706847 387466.2635739254 310000.0\n"
     ]
    }
   ],
   "source": [
    "test2Pred = predictOutcome(simp1TeMat, simp1Wts0Pe)\n",
    "print(test1Pred[0], test2Pred[0], simp1TeOp[0])"
   ]
  }
 ],
 "metadata": {
  "kernelspec": {
   "display_name": "Python 3",
   "language": "python",
   "name": "python3"
  },
  "language_info": {
   "codemirror_mode": {
    "name": "ipython",
    "version": 3
   },
   "file_extension": ".py",
   "mimetype": "text/x-python",
   "name": "python",
   "nbconvert_exporter": "python",
   "pygments_lexer": "ipython3",
   "version": "3.6.5"
  }
 },
 "nbformat": 4,
 "nbformat_minor": 2
}
